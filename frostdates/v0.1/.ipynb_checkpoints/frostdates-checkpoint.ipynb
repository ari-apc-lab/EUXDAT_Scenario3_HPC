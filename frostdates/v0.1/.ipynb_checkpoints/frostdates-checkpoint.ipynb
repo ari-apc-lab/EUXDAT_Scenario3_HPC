{
 "cells": [
  {
   "cell_type": "markdown",
   "metadata": {},
   "source": [
    "### import libraries"
   ]
  },
  {
   "cell_type": "code",
   "execution_count": 43,
   "metadata": {},
   "outputs": [
    {
     "name": "stdout",
     "output_type": "stream",
     "text": [
      "Requirement already satisfied: netCDF4 in /opt/conda/lib/python3.7/site-packages (1.5.3)\n",
      "Requirement already satisfied: numpy>=1.7 in /opt/conda/lib/python3.7/site-packages (from netCDF4) (1.17.3)\n",
      "Requirement already satisfied: cftime in /opt/conda/lib/python3.7/site-packages (from netCDF4) (1.0.4.2)\n"
     ]
    }
   ],
   "source": [
    "! pip install netCDF4"
   ]
  },
  {
   "cell_type": "code",
   "execution_count": 44,
   "metadata": {},
   "outputs": [],
   "source": [
    "import netCDF4 # python API to work with netcdf (.nc) files\n",
    "import os\n",
    "import datetime\n",
    "from osgeo import gdal, ogr, osr\n",
    "import numpy as np # library to work with matrixes and computations in general\n",
    "import matplotlib.pyplot as plt # plotting library\n",
    "from auxiliary_classes import convert_time,convert_time_reverse,kelvin_to_celsius,kelvin_to_celsius_vector,Grid,Image,subImage\n",
    "import json\n",
    "import geojson, gdal, subprocess"
   ]
  },
  {
   "cell_type": "markdown",
   "metadata": {},
   "source": [
    "### auxiliary functions"
   ]
  },
  {
   "cell_type": "code",
   "execution_count": 45,
   "metadata": {},
   "outputs": [],
   "source": [
    "def print_geojson(tname, tvalue, fname, startdoc, position,endloop): #for printing to geojson - start,end,attributes\n",
    "    fname = fname +\".geojson\"\n",
    "    pmode=\"a\"\n",
    "    if startdoc==1:\n",
    "        with open(fname, mode=\"w\", encoding='utf-8') as f1:\n",
    "            tstring = \"{\\n\\\"type\\\": \\\"FeatureCollection\\\",\\n\\\"features\\\": [\"\n",
    "            print(tstring, file=f1)\n",
    "            f1.close()\n",
    "    else:\n",
    "        if position==1:\n",
    "            with open(fname, mode=pmode, encoding='utf-8') as f1:\n",
    "                print(\"{\", file=f1)\n",
    "                f1.close()  \n",
    "        elif position==2:\n",
    "            with open(fname, mode=pmode, encoding='utf-8') as f1:\n",
    "                if endloop==0:\n",
    "                    print(\"}\\n},\", file=f1)\n",
    "                    f1.close()\n",
    "                else:\n",
    "                    print(\"}\\n}\\n]\\n}\", file=f1)\n",
    "                    f1.close()\n",
    "        elif position==3:\n",
    "            with open(fname, mode=pmode, encoding='utf-8') as f1:\n",
    "                ttext = \"\\\"\" + str(tname) + \"\\\": \\\"\" +str(tvalue) + \"\\\"\"\n",
    "                print(ttext, file=f1) \n",
    "                f1.close()\n",
    "        else:\n",
    "             with open(fname, mode=pmode, encoding='utf-8') as f1:\n",
    "                ttext = \"\\\"\" + str(tname) + \"\\\": \\\"\" +str(tvalue) + \"\\\",\"\n",
    "                print(ttext, file=f1) \n",
    "                f1.close() "
   ]
  },
  {
   "cell_type": "code",
   "execution_count": 46,
   "metadata": {},
   "outputs": [],
   "source": [
    "def print_geojson_2(longitude, latitude, fname): #for printing to geojson - geometry, longitude, latitude\n",
    "    tstring = \"\\\"type\\\": \\\"Feature\\\",\\n\\\"geometry\\\": {\\n\\\"type\\\": \\\"Point\\\",\\n\\\"coordinates\\\": [\" + str(longitude) + \",\"+ str(latitude) + \"]\\n},\\n\\\"properties\\\": {\"\n",
    "    fname = fname +\".geojson\"\n",
    "    with open(fname, mode=\"a\", encoding='utf-8') as f1:\n",
    "            print(tstring, file=f1)\n",
    "            f1.close()\n",
    "    \n",
    " \n",
    "    \n",
    "       "
   ]
  },
  {
   "cell_type": "code",
   "execution_count": 47,
   "metadata": {},
   "outputs": [],
   "source": [
    "def probabilitydate(inputlist, probability, first):#calculate frost date with selected probability from list of frost dates of each year\n",
    "    listlong = len(inputlist)\n",
    "    if listlong == 1:\n",
    "        outputdate = 0\n",
    "        return outputdate\n",
    "    elif listlong == 0:\n",
    "        outputdate = 0\n",
    "        return outputdate\n",
    "    else:\n",
    "        orderlist = orderedlist(inputlist)\n",
    "        valuelist = daynumberlist(orderlist)\n",
    "        value = 0\n",
    "        if first==1:\n",
    "            value = int(gauss_value(valuelist, probability))\n",
    "        else: \n",
    "            probability=100-probability\n",
    "            value = int(gauss_value(valuelist, probability))\n",
    "        outputdate = orderlist[0] + timedelta(days=value)\n",
    "        return outputdate"
   ]
  },
  {
   "cell_type": "code",
   "execution_count": 48,
   "metadata": {},
   "outputs": [],
   "source": [
    "def same_year(daylong): #change date to same year (2030) for next calculation\n",
    "        sdaylong = str(daylong)\n",
    "        tday = int(sdaylong[8:10])\n",
    "        tmonth = int(sdaylong[5:7])\n",
    "        sameyear = date(2030, tmonth, tday)\n",
    "   \n",
    "    \n",
    "        return sameyear"
   ]
  },
  {
   "cell_type": "code",
   "execution_count": 49,
   "metadata": {},
   "outputs": [],
   "source": [
    "def gauss_value(inputlist, probability): #value of gaussian probability from values of input list\n",
    "    \n",
    "    mean = np.mean(inputlist)\n",
    "    sigma = np.std(inputlist)\n",
    "    values = np.random.normal(mean,sigma,10000)\n",
    "    \n",
    "    value = np.percentile(values,probability)\n",
    "    \n",
    "    return value\n",
    "    "
   ]
  },
  {
   "cell_type": "code",
   "execution_count": 50,
   "metadata": {},
   "outputs": [],
   "source": [
    "def orderedlist(inputlist): #sort list by date\n",
    "    listlong = len(inputlist)\n",
    "    for j in range (0,listlong-1,1):\n",
    "        for i in range(j+1, listlong, 1):\n",
    "            firstday = inputlist[j]\n",
    "            secondday = inputlist[i]\n",
    "            sfirstday = str(firstday)\n",
    "            ssecondday = str(secondday)\n",
    "            fday = int(sfirstday[8:10])\n",
    "            fmonth = int(sfirstday[5:7])\n",
    "            sday = int(ssecondday[8:10])\n",
    "            smonth = int(ssecondday[5:7])\n",
    "            if fday<10:\n",
    "                firstval=str(fmonth)+\"0\"+str(fday)\n",
    "            else:\n",
    "                firstval=str(fmonth)+str(fday)\n",
    "            if sday<10:\n",
    "                secondval=str(smonth)+\"0\"+str(sday)\n",
    "            else:\n",
    "                secondval=str(smonth)+str(sday)\n",
    "            firstvalue = int(firstval)\n",
    "            secondvalue = int(secondval)\n",
    "            if secondvalue < firstvalue:\n",
    "                inputlist[j]=secondday\n",
    "                inputlist[i]=firstday\n",
    "       \n",
    "    return inputlist"
   ]
  },
  {
   "cell_type": "code",
   "execution_count": 51,
   "metadata": {},
   "outputs": [],
   "source": [
    "def daynumberlist(orderlist): #from ordered dates to number of days from first date \n",
    "    listlong = len(orderlist)\n",
    "    outputlist=[]\n",
    "    outputlist.append(0)\n",
    "    for i in range(1, listlong, 1):\n",
    "        difference = orderlist[i] - orderlist[0]\n",
    "        outputlist.append(difference.days)\n",
    "    return outputlist    \n",
    "    \n",
    "    "
   ]
  },
  {
   "cell_type": "markdown",
   "metadata": {},
   "source": [
    "###  Find frost dates: function for one place"
   ]
  },
  {
   "cell_type": "code",
   "execution_count": 52,
   "metadata": {},
   "outputs": [],
   "source": [
    "from datetime import date, timedelta\n",
    "def findfrostdates(latitude,longitude,year,frostdegree,dayinrow,starthourday,endhourday,fnamefrostdates,im,firstlist, lastlist,nmbfrdayslist):\n",
    "      \n",
    "       \n",
    "    numbfrostdays=0 # for calculating numb of frost days\n",
    "        \n",
    "    #determination of winter and summer:\n",
    "    wintermonth=1\n",
    "    summermonth=7\n",
    "    if latitude<0:\n",
    "        wintermonth=7\n",
    "        summermonth=1\n",
    "    \n",
    "    # Last spring frost date:\n",
    "    startmonth=wintermonth\n",
    "    endmonth=summermonth\n",
    "    lastfrostday=0\n",
    "    daysbefore=0\n",
    "    startdate=1\n",
    "    enddate=1\n",
    "    if endmonth == 1:\n",
    "        endmonth=12\n",
    "        enddate=31\n",
    "    sdate = date(year, startmonth, startdate)   # start date for searching last frost date\n",
    "    edate = date(year, endmonth, enddate)   # end date for searching last frost date\n",
    "    delta = edate - sdate       # as timedelta\n",
    "    for i in range(delta.days):\n",
    "        daylong = sdate + timedelta(days=i)\n",
    "        sdaylong = str(daylong)\n",
    "        tday = int(sdaylong[8:10])\n",
    "        tmonth = int(sdaylong[5:7])\n",
    "        tyear = int(sdaylong[0:4])\n",
    "        daymin = 50 # start value\n",
    "        for hour in range(starthourday, endhourday+1, 1): # for specific hours (all day,only sunrise hours,..)\n",
    "            time=convert_time_reverse(datetime.datetime(tyear, tmonth, tday, hour, 0))\n",
    "            slice_dictionary={'lon':[longitude,],'lat':[latitude],'time':[int(time)]}\n",
    "            currenttemp=kelvin_to_celsius_vector(im.slice('t2m_NON_CDM',slice_dictionary))\n",
    "            if currenttemp < daymin:\n",
    "                daymin = currenttemp\n",
    "        if daymin <= frostdegree:  # frostday?\n",
    "            numbfrostdays+=1\n",
    "            lastfrostday=daylong\n",
    "            if daysbefore>=dayinrow-1:\n",
    "                lastfrostday=daylong\n",
    "            daysbefore=+1\n",
    "        else:\n",
    "            daysbefore=0\n",
    "    \n",
    "    tvarname = \"LastD\"+ str(year)\n",
    "    print_geojson(tvarname, lastfrostday, fnamefrostdates, 0, 0, 0)\n",
    "    if lastfrostday!= 0:\n",
    "        tvalue = same_year(lastfrostday)\n",
    "        lastlist.append(tvalue)\n",
    "    \n",
    "    \n",
    "                     \n",
    "    # First autumn frost date:\n",
    "    startmonth=summermonth\n",
    "    endmonth=wintermonth\n",
    "    firstfrostday=0\n",
    "    daysbefore=0\n",
    "    cutfrost=0\n",
    "    enddate=1\n",
    "    startdate=1\n",
    "    if endmonth == 1:\n",
    "        endmonth=12\n",
    "        enddate=31\n",
    "        \n",
    "        \n",
    "    sdate = date(year, startmonth, startdate)   # start date of searching\n",
    "    edate = date(year, endmonth, enddate)   # end date of searching\n",
    "    delta = edate - sdate       # as timedelta\n",
    "    for i in range(delta.days):\n",
    "        daylong = sdate + timedelta(days=i)\n",
    "        sdaylong = str(daylong)\n",
    "        tday = int(sdaylong[8:10])\n",
    "        tmonth = int(sdaylong[5:7])\n",
    "        tyear = int(sdaylong[0:4])\n",
    "        daymin = 50 # start value\n",
    "        for hour in range(starthourday, endhourday+1, 1): # for specific hours (all day,only sunrise hours,..)\n",
    "            time=convert_time_reverse(datetime.datetime(tyear, tmonth, tday, hour, 0))\n",
    "            slice_dictionary={'lon':[longitude],'lat':[latitude],'time':[int(time)]}\n",
    "            currenttemp=kelvin_to_celsius_vector(im.slice('t2m_NON_CDM',slice_dictionary))\n",
    "            if currenttemp < daymin:\n",
    "                daymin = currenttemp\n",
    "        if daymin <= frostdegree:  # frostday?\n",
    "            numbfrostdays+=1\n",
    "            if daysbefore>=(dayinrow-1) and cutfrost==0:\n",
    "                firstfrostday=daylong\n",
    "                cutfrost=1\n",
    "            daysbefore=+1\n",
    "        else:\n",
    "            daysbefore=0\n",
    "       \n",
    "    tvarname = \"FirstD\"+str(year)\n",
    "    print_geojson(tvarname, firstfrostday, fnamefrostdates, 0, 0, 0)\n",
    "    if firstfrostday!= 0:\n",
    "        tvalue = same_year(firstfrostday)\n",
    "        firstlist.append(tvalue)\n",
    "    # Frostfreeperiod\n",
    "    frostfreeperiod=0\n",
    "    if firstfrostday!=0 and lastfrostday!=0:\n",
    "        if latitude>0:\n",
    "            frostfreeperiod =  firstfrostday-lastfrostday\n",
    "            frostfreeperiod = frostfreeperiod.days\n",
    "        else:\n",
    "            firstyeardate = date(year, 1, 1)   # start date of year\n",
    "            lastyeardate = date(year, 12, 31)   # end date of year\n",
    "            frostfreeperiod =  (firstfrostday-firstyeardate)+(lastyeardate-lastfrostday)\n",
    "    tvarname = \"Period\"+ str(year)\n",
    "    print_geojson(tvarname, frostfreeperiod, fnamefrostdates, 0, 0, 0)\n",
    "    \n",
    "    tvarname = \"FrDays\"+ str(year) \n",
    "    print_geojson(tvarname, numbfrostdays, fnamefrostdates, 0, 0, 0)\n",
    "    nmbfrdayslist.append(numbfrostdays)\n",
    "    \n",
    "                  "
   ]
  },
  {
   "cell_type": "markdown",
   "metadata": {},
   "source": [
    "### Find frost dates: function for selected years"
   ]
  },
  {
   "cell_type": "code",
   "execution_count": 53,
   "metadata": {},
   "outputs": [],
   "source": [
    "def frostdatesyearly(latorder,lonorder,startyear,endyear,frostdegree,dayinrow,starthourday,endhourday,fnamefrostdates,endloop,datafolder,probability):\n",
    "    print_geojson(\"\", \"\", fnamefrostdates, 0, 1,0)\n",
    "    firstlist = []\n",
    "    lastlist = []\n",
    "    nmbfrdayslist = []\n",
    "    \n",
    "    for year in range(startyear, endyear+1, 1):\n",
    "        source = datafolder + '/' + str(year) + '.nc' \n",
    "        im=Image(netCDF4.Dataset(source,'r'))   \n",
    "        longlist = im.get_data().variables['lon'][:]\n",
    "        latlist= im.get_data().variables['lat'][:]\n",
    "        longitude = longlist [lonorder]   \n",
    "        latitude = latlist[latorder]\n",
    "        if year == startyear:\n",
    "            print_geojson_2(longitude, latitude, fnamefrostdates)\n",
    "        findfrostdates(latitude,longitude,year,frostdegree,dayinrow,starthourday,endhourday,fnamefrostdates,im,firstlist,lastlist,nmbfrdayslist)\n",
    "    \n",
    "    firstprobday = probabilitydate(firstlist, probability, 1)\n",
    "    lastprobday = probabilitydate(lastlist, probability, 0)\n",
    "    namefirstprob = \"FirstD\" + str(probability) \n",
    "    namelastprob = \"LastD\" + str(probability) \n",
    "    print_geojson(namelastprob, lastprobday, fnamefrostdates, 0, 0, 0)\n",
    "    print_geojson(namefirstprob, firstprobday, fnamefrostdates, 0, 0, 0)\n",
    "    \n",
    "    nameperiodprob = \"Period\" + str(probability) \n",
    "    frostfreeperiod=0\n",
    "    if firstprobday!=0 and lastprobday!=0:\n",
    "        if latitude>0:\n",
    "            frostfreeperiod =  firstprobday-lastprobday\n",
    "            frostfreeperiod = frostfreeperiod.days\n",
    "        else:\n",
    "            firstyeardate = date(2030, 1, 1)   # start date of year\n",
    "            lastyeardate = date(2030, 12, 31)   # end date of year\n",
    "            frostfreeperiod =  (firstprobday-firstyeardate)+(lastyeardate-lastprobday) \n",
    "    \n",
    "    print_geojson(nameperiodprob, frostfreeperiod, fnamefrostdates, 0, 0, 0)\n",
    "    tmeannmb = np.mean(nmbfrdayslist)\n",
    "    meannmb = int(np.round(tmeannmb, decimals=0, out=None))\n",
    "    print_geojson(\"AvgFrDays\", meannmb, fnamefrostdates, 0, 3, 0)\n",
    "    print_geojson(\"\", \"\", fnamefrostdates, 0, 2,endloop)\n",
    "          "
   ]
  },
  {
   "cell_type": "markdown",
   "metadata": {},
   "source": [
    "### Find frost dates: function for selected latitudes, longitudes"
   ]
  },
  {
   "cell_type": "code",
   "execution_count": 54,
   "metadata": {},
   "outputs": [],
   "source": [
    "def frostdatesplaces(startlat, startlon, endlat, endlon, startyear,endyear,frostdegree,dayinrow,starthourday,endhourday,exportfolder,datafolder,fnamefrostdates1,probability):\n",
    "        fnamefrostdates = exportfolder + \"/\" +fnamefrostdates1\n",
    "        print_geojson(\"\", \"\", fnamefrostdates, 1, 0,0)\n",
    "        endloop=0\n",
    "        for latorder in range(startlat, endlat+1, 1):\n",
    "            for lonorder in range(startlon, endlon+1, 1):\n",
    "                if latorder==endlat and lonorder==endlon:\n",
    "                    endloop=1\n",
    "                frostdatesyearly(latorder,lonorder,startyear,endyear,frostdegree,dayinrow,starthourday,endhourday,fnamefrostdates,endloop,datafolder,probability)\n",
    "        # to shapefile\n",
    "       \n",
    "        "
   ]
  },
  {
   "cell_type": "markdown",
   "metadata": {},
   "source": [
    "## <font color=red>Find frost dates: input parameters and launch</font> "
   ]
  },
  {
   "cell_type": "code",
   "execution_count": null,
   "metadata": {},
   "outputs": [],
   "source": [
    "dayinrow=1 #we can find also for example last/first two frost days of each year\n",
    "starthourday=0 # integer 0-23, we can select only sunrise hours\n",
    "endhourday=23 # integer 0-23, we can select only sunrise hours\n",
    "frostdegree=0 #we can find also for example last/first day with -2 degrees of Celsius\n",
    "startyear=2016 #start year (sample data: 2007-2018)\n",
    "endyear=2018 #end year (sample data: 2007-2018)\n",
    "exportfolder = \"export\" #for all files (if each file its folder -> insert name of folder to name of file)\n",
    "datafolder = \"data\" #folder with data files (named by year) for each year \n",
    "startlat=0 # start number of list of latitudes from used netCDF4 file (sample data: 0-29)\n",
    "startlon=0 # start number of list of longitudes from used netCDF4 file (sample data: 0-19)\n",
    "endlat=2 # end number of list of latitudes from used netCDF4 file (sample data: 0-29)\n",
    "endlon=2 # end number of list of longitudes from used netCDF4 file (sample data: 0-19)\n",
    "probability=10 # probability (percent) of frost date (integer 10-90)\n",
    "\n",
    "#name of created files:\n",
    "fnamefrostdates=\"frostdates\" #automatic addition number of year \n",
    " \n",
    "\n",
    "frostdatesplaces(startlat, startlon, endlat, endlon, startyear,endyear,frostdegree,dayinrow,starthourday,endhourday,exportfolder,datafolder,fnamefrostdates,probability)\n",
    "\n",
    "\n",
    "\n",
    "\n"
   ]
  },
  {
   "cell_type": "markdown",
   "metadata": {},
   "source": [
    "<font color=red> Output: in export folder is created geojson with points - each point has got attributes: first/last frost date, frost-free period with corresponding probability, frost dates, period for each year and also number of frost days in each year or averange of number of frost days </font> "
   ]
  },
  {
   "cell_type": "markdown",
   "metadata": {},
   "source": [
    "## From geojson to shp"
   ]
  },
  {
   "cell_type": "code",
   "execution_count": 57,
   "metadata": {},
   "outputs": [
    {
     "data": {
      "text/plain": [
       "<subprocess.Popen at 0x7f875f399080>"
      ]
     },
     "execution_count": 57,
     "metadata": {},
     "output_type": "execute_result"
    }
   ],
   "source": [
    "args = ['ogr2ogr', '-f', 'ESRI Shapefile', 'export/frostdates.shp', 'export/frostdates.geojson']\n",
    "subprocess.Popen(args)"
   ]
  },
  {
   "cell_type": "markdown",
   "metadata": {},
   "source": [
    "## Display calculated attributes (shp): First/last frost dates, frost-period, number of frost days - each year/ with calculated probability "
   ]
  },
  {
   "cell_type": "markdown",
   "metadata": {},
   "source": [
    "Description of attributes: \n",
    "LastDyear = Last spring frost date in year,\n",
    "FirstDyear = First autumn frost date in year,\n",
    "Periodyear = Frost-free period in year,\n",
    "FrDaysyear = Number of frost days in year,\n",
    "LastDpercent = Last spring frost date with corresponding probability (percent),\n",
    "FirstDpercent = First autumn frost date with corresponding probability (percent),\n",
    "Periodpercent = Frost-free period with corresponding probability (percent),\n",
    "AvgFrDays = Average number of frost days of all years,\n",
    "\n"
   ]
  },
  {
   "cell_type": "code",
   "execution_count": 59,
   "metadata": {},
   "outputs": [
    {
     "name": "stdout",
     "output_type": "stream",
     "text": [
      "    LastD2016  FirstD2016 Period2016 FrDays2016   LastD2017  FirstD2017  \\\n",
      "0  2016-04-29  2016-10-22        176        101  2017-06-30  2017-07-05   \n",
      "1  2016-04-29  2016-10-22        176         97  2017-06-30  2017-07-05   \n",
      "2  2016-04-29  2016-10-22        176         97  2017-06-30  2017-07-03   \n",
      "3  2016-04-29  2016-10-22        176        104  2017-06-30  2017-07-03   \n",
      "4  2016-04-29  2016-10-22        176        102  2017-06-30  2017-07-03   \n",
      "5  2016-04-29  2016-10-22        176        102  2017-06-30  2017-07-03   \n",
      "6  2016-04-29  2016-11-04        189         89  2017-06-30  2017-07-03   \n",
      "7  2016-04-29  2016-11-04        189         92  2017-06-30  2017-07-03   \n",
      "8  2016-04-29  2016-11-04        189         89  2017-06-30  2017-07-03   \n",
      "\n",
      "  Period2017 FrDays2017   LastD2018  FirstD2018 Period2018 FrDays2018  \\\n",
      "0          5        110  2018-04-02  2018-11-16        228        105   \n",
      "1          5        112  2018-04-02  2018-11-16        228        103   \n",
      "2          3        120  2018-04-02  2018-11-17        229        104   \n",
      "3          3        110  2018-04-02  2018-11-18        230        102   \n",
      "4          3        109  2018-04-02  2018-11-18        230        102   \n",
      "5          3        113  2018-04-02  2018-11-18        230        100   \n",
      "6          3        111  2018-03-30  2018-11-18        233         90   \n",
      "7          3        108  2018-03-30  2018-11-18        233         91   \n",
      "8          3        105  2018-03-30  2018-11-18        233         91   \n",
      "\n",
      "      LastD10    FirstD10 Period10 AvgFrDays                   geometry  \n",
      "0  2030-06-27  2030-07-09       12       105  POINT (12.00000 48.00000)  \n",
      "1  2030-06-26  2030-07-12       16       104  POINT (12.10000 48.00000)  \n",
      "2  2030-06-26  2030-07-09       13       107  POINT (12.20000 48.00000)  \n",
      "3  2030-06-27  2030-07-08       11       105  POINT (12.00000 48.10000)  \n",
      "4  2030-06-26  2030-07-07       11       104  POINT (12.10000 48.10000)  \n",
      "5  2030-06-27  2030-07-10       13       105  POINT (12.20000 48.10000)  \n",
      "6  2030-06-27  2030-07-11       14        97  POINT (12.00000 48.20000)  \n",
      "7  2030-06-26  2030-07-10       14        97  POINT (12.10000 48.20000)  \n",
      "8  2030-06-29  2030-07-11       12        95  POINT (12.20000 48.20000)  \n"
     ]
    }
   ],
   "source": [
    "import geopandas as gpd\n",
    "gdf = gpd.read_file('export/frostdates.shp')\n",
    "print (gdf)"
   ]
  },
  {
   "cell_type": "markdown",
   "metadata": {},
   "source": [
    "## Simple display the last spring frost dates"
   ]
  },
  {
   "cell_type": "code",
   "execution_count": 60,
   "metadata": {},
   "outputs": [
    {
     "data": {
      "text/plain": [
       "<matplotlib.axes._subplots.AxesSubplot at 0x7f875f5c60b8>"
      ]
     },
     "execution_count": 60,
     "metadata": {},
     "output_type": "execute_result"
    },
    {
     "data": {
      "image/png": "[encoded data removed]",
      "text/plain": [
       "<Figure size 432x288 with 1 Axes>"
      ]
     },
     "metadata": {
      "needs_background": "light"
     },
     "output_type": "display_data"
    }
   ],
   "source": [
    "\"LastD\" + str(probability)\n",
    "gdf.plot(column= \"LastD\" + str(probability), cmap=None, legend=True)"
   ]
  },
  {
   "cell_type": "markdown",
   "metadata": {},
   "source": [
    "## Simple display the first fall frost dates"
   ]
  },
  {
   "cell_type": "code",
   "execution_count": 61,
   "metadata": {},
   "outputs": [
    {
     "data": {
      "text/plain": [
       "<matplotlib.axes._subplots.AxesSubplot at 0x7f875f3e0a90>"
      ]
     },
     "execution_count": 61,
     "metadata": {},
     "output_type": "execute_result"
    },
    {
     "data": {
      "image/png": "[encoded data removed]",
      "text/plain": [
       "<Figure size 432x288 with 1 Axes>"
      ]
     },
     "metadata": {
      "needs_background": "light"
     },
     "output_type": "display_data"
    }
   ],
   "source": [
    "gdf.plot(column= \"FirstD\" + str(probability), cmap=None, legend=True)"
   ]
  },
  {
   "cell_type": "markdown",
   "metadata": {},
   "source": [
    "## Display the frost free period"
   ]
  },
  {
   "cell_type": "code",
   "execution_count": 62,
   "metadata": {},
   "outputs": [
    {
     "data": {
      "text/plain": [
       "<matplotlib.axes._subplots.AxesSubplot at 0x7f875f552a90>"
      ]
     },
     "execution_count": 62,
     "metadata": {},
     "output_type": "execute_result"
    },
    {
     "data": {
      "image/png": "[encoded data removed]",
      "text/plain": [
       "<Figure size 432x288 with 1 Axes>"
      ]
     },
     "metadata": {
      "needs_background": "light"
     },
     "output_type": "display_data"
    }
   ],
   "source": [
    "gdf.plot(column= \"Period\" + str(probability), cmap=None, legend=True)\n",
    "\n"
   ]
  },
  {
   "cell_type": "markdown",
   "metadata": {},
   "source": [
    "## Display averange number of frost days"
   ]
  },
  {
   "cell_type": "code",
   "execution_count": 63,
   "metadata": {},
   "outputs": [
    {
     "data": {
      "image/png": "[encoded data removed]",
      "text/plain": [
       "<Figure size 432x288 with 1 Axes>"
      ]
     },
     "metadata": {
      "needs_background": "light"
     },
     "output_type": "display_data"
    }
   ],
   "source": [
    "sd = gdf.plot(column= \"AvgFrDays\", cmap=None, legend=True)"
   ]
  }
 ],
 "metadata": {
  "kernelspec": {
   "display_name": "Python 3",
   "language": "python",
   "name": "python3"
  },
  "language_info": {
   "codemirror_mode": {
    "name": "ipython",
    "version": 3
   },
   "file_extension": ".py",
   "mimetype": "text/x-python",
   "name": "python",
   "nbconvert_exporter": "python",
   "pygments_lexer": "ipython3",
   "version": "3.7.3"
  }
 },
 "nbformat": 4,
 "nbformat_minor": 4
}
